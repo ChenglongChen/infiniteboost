{
 "metadata": {
  "kernelspec": {
   "display_name": "Python 2",
   "language": "python",
   "name": "python2"
  },
  "language_info": {
   "codemirror_mode": {
    "name": "ipython",
    "version": 2
   },
   "file_extension": ".py",
   "mimetype": "text/x-python",
   "name": "python",
   "nbconvert_exporter": "python",
   "pygments_lexer": "ipython2",
   "version": "2.7.12"
  },
  "name": ""
 },
 "nbformat": 3,
 "nbformat_minor": 0,
 "worksheets": [
  {
   "cells": [
    {
     "cell_type": "markdown",
     "metadata": {},
     "source": [
      "# Comparison of RandomForest and InfiniteBoost\n",
      "\n",
      "note: in these tests InfiniteBoost use the same trees as RandomForest (default in scikit-learn)\n",
      "\n",
      "Separate minimalistic implementation of infiniteboost was done specially for these tests, it uses sklearn trees (and thus can work with )."
     ]
    },
    {
     "cell_type": "code",
     "collapsed": true,
     "input": [
      "%matplotlib inline\n",
      "from matplotlib import pyplot as plt\n",
      "\n",
      "import numpy\n",
      "import joblib\n",
      "import pandas\n",
      "from collections import OrderedDict\n",
      "\n",
      "from sklearn.ensemble import RandomForestClassifier\n",
      "from sklearn.model_selection import train_test_split, StratifiedKFold\n",
      "from sklearn.metrics import roc_auc_score\n",
      "from sklearn.datasets import fetch_covtype, load_svmlight_file\n",
      "from sklearn.base import clone"
     ],
     "language": "python",
     "metadata": {},
     "outputs": [],
     "prompt_number": 1
    },
    {
     "cell_type": "heading",
     "level": 2,
     "metadata": {},
     "source": [
      "Loading datasets"
     ]
    },
    {
     "cell_type": "code",
     "collapsed": true,
     "input": [
      "datasets = OrderedDict()"
     ],
     "language": "python",
     "metadata": {},
     "outputs": [],
     "prompt_number": 2
    },
    {
     "cell_type": "code",
     "collapsed": true,
     "input": [
      "data = fetch_covtype()\n",
      "X = data['data']\n",
      "y = (data['target'] == 2) * 1 # majority class as a target\n",
      "datasets['covtype'] = X, y"
     ],
     "language": "python",
     "metadata": {},
     "outputs": [
      {
       "output_type": "stream",
       "stream": "stderr",
       "text": [
        "No handlers could be found for logger \"root\"\n"
       ]
      }
     ],
     "prompt_number": 3
    },
    {
     "cell_type": "code",
     "collapsed": true,
     "input": [
      "X, y = load_svmlight_file('../../datasets/real-sim.txt' )\n",
      "y = (y > 0) * 1 # converting {-1, +1} to {0, 1}\n",
      "datasets['real-sim'] = X, y"
     ],
     "language": "python",
     "metadata": {},
     "outputs": [],
     "prompt_number": 4
    },
    {
     "cell_type": "code",
     "collapsed": true,
     "input": [
      "X, y = load_svmlight_file('../../datasets/J_Lee.txt' )\n",
      "datasets['citeseer'] = X, y.astype(int)"
     ],
     "language": "python",
     "metadata": {},
     "outputs": [],
     "prompt_number": 5
    },
    {
     "cell_type": "code",
     "collapsed": false,
     "input": [
      "for name, (X, y) in datasets.items():\n",
      "    print name, 'shape: ', X.shape, 'with ', sum(y), 'positive', sum(1 - y), 'negative'"
     ],
     "language": "python",
     "metadata": {},
     "outputs": [
      {
       "output_type": "stream",
       "stream": "stdout",
       "text": [
        "covtype shape:  (581012, 54) with  283301 positive 297711 negative\n",
        "real-sim shape:  (72309, 20958) with  22238 positive 50071 negative\n",
        "citeseer shape:  (181395, 105354) with  299 positive 181096 negative\n"
       ]
      }
     ],
     "prompt_number": 6
    },
    {
     "cell_type": "code",
     "collapsed": true,
     "input": [
      "numpy.random.seed(42)"
     ],
     "language": "python",
     "metadata": {},
     "outputs": [],
     "prompt_number": 7
    },
    {
     "cell_type": "code",
     "collapsed": true,
     "input": [
      "from SparseInfiniteBoosting import InfiniteBoosting"
     ],
     "language": "python",
     "metadata": {},
     "outputs": [],
     "prompt_number": 8
    },
    {
     "cell_type": "code",
     "collapsed": true,
     "input": [
      "models = OrderedDict()\n",
      "cross_val_qualities = OrderedDict()\n",
      "\n",
      "models['rf'] = RandomForestClassifier(n_estimators=100, random_state=42)\n",
      "for capacity in [1., 2., 4.]:\n",
      "    models[str(capacity)] = InfiniteBoosting(n_estimators=100, capacity=capacity)"
     ],
     "language": "python",
     "metadata": {},
     "outputs": [],
     "prompt_number": 9
    },
    {
     "cell_type": "code",
     "collapsed": false,
     "input": [
      "for dataset_name, (X, y) in datasets.items():\n",
      "    for name, model in models.items():\n",
      "        print name\n",
      "        folder = StratifiedKFold(n_splits=4, shuffle=True, random_state=42)\n",
      "        cross_val_qualities[dataset_name, name] = []\n",
      "        for train_indices, test_indices in folder.split(X, y):\n",
      "            X_train = X[train_indices]\n",
      "            X_test = X[test_indices]\n",
      "            y_train = y[train_indices]\n",
      "            y_test = y[test_indices]\n",
      "            clf = clone(model)\n",
      "            if len(y) > 500000:\n",
      "                # to avoid out-of-memory errors\n",
      "                clf.set_params(max_leaf_nodes=2 ** 15)\n",
      "            %time clf.fit(X_train, y_train)\n",
      "            cross_val_qualities[dataset_name, name].append(roc_auc_score(y_test, clf.predict_proba(X_test)[:, 1]))\n",
      "            del clf\n",
      "        joblib.dump(cross_val_qualities, './plots/forest_all_qualities.pkl', protocol=2)"
     ],
     "language": "python",
     "metadata": {},
     "outputs": [
      {
       "output_type": "stream",
       "stream": "stdout",
       "text": [
        "rf\n"
       ]
      },
      {
       "output_type": "stream",
       "stream": "stdout",
       "text": [
        "CPU times: user 1min 44s, sys: 132 ms, total: 1min 44s\n",
        "Wall time: 1min 44s\n"
       ]
      },
      {
       "output_type": "stream",
       "stream": "stdout",
       "text": [
        "CPU times: user 1min 41s, sys: 112 ms, total: 1min 41s\n",
        "Wall time: 1min 41s\n"
       ]
      },
      {
       "output_type": "stream",
       "stream": "stdout",
       "text": [
        "CPU times: user 1min 43s, sys: 56 ms, total: 1min 43s\n",
        "Wall time: 1min 43s\n"
       ]
      },
      {
       "output_type": "stream",
       "stream": "stdout",
       "text": [
        "CPU times: user 1min 43s, sys: 128 ms, total: 1min 43s\n",
        "Wall time: 1min 43s\n"
       ]
      },
      {
       "output_type": "stream",
       "stream": "stdout",
       "text": [
        "1.0\n"
       ]
      },
      {
       "output_type": "stream",
       "stream": "stdout",
       "text": [
        "CPU times: user 1min 52s, sys: 3.57 s, total: 1min 55s\n",
        "Wall time: 1min 55s\n"
       ]
      },
      {
       "output_type": "stream",
       "stream": "stdout",
       "text": [
        "CPU times: user 1min 52s, sys: 3.52 s, total: 1min 55s\n",
        "Wall time: 1min 55s\n"
       ]
      },
      {
       "output_type": "stream",
       "stream": "stdout",
       "text": [
        "CPU times: user 1min 52s, sys: 3.78 s, total: 1min 56s\n",
        "Wall time: 1min 56s\n"
       ]
      },
      {
       "output_type": "stream",
       "stream": "stdout",
       "text": [
        "CPU times: user 1min 50s, sys: 3.86 s, total: 1min 54s\n",
        "Wall time: 1min 54s\n"
       ]
      },
      {
       "output_type": "stream",
       "stream": "stdout",
       "text": [
        "2.0\n"
       ]
      },
      {
       "output_type": "stream",
       "stream": "stdout",
       "text": [
        "CPU times: user 1min 54s, sys: 3.57 s, total: 1min 58s\n",
        "Wall time: 1min 58s\n"
       ]
      },
      {
       "output_type": "stream",
       "stream": "stdout",
       "text": [
        "CPU times: user 1min 52s, sys: 3.81 s, total: 1min 56s\n",
        "Wall time: 1min 56s\n"
       ]
      },
      {
       "output_type": "stream",
       "stream": "stdout",
       "text": [
        "CPU times: user 1min 54s, sys: 3.74 s, total: 1min 58s\n",
        "Wall time: 1min 58s\n"
       ]
      },
      {
       "output_type": "stream",
       "stream": "stdout",
       "text": [
        "CPU times: user 1min 52s, sys: 3.6 s, total: 1min 55s\n",
        "Wall time: 1min 55s\n"
       ]
      },
      {
       "output_type": "stream",
       "stream": "stdout",
       "text": [
        "4.0\n"
       ]
      },
      {
       "output_type": "stream",
       "stream": "stdout",
       "text": [
        "CPU times: user 1min 55s, sys: 3.9 s, total: 1min 59s\n",
        "Wall time: 1min 59s\n"
       ]
      },
      {
       "output_type": "stream",
       "stream": "stdout",
       "text": [
        "CPU times: user 1min 58s, sys: 3.52 s, total: 2min 2s\n",
        "Wall time: 2min 2s\n"
       ]
      },
      {
       "output_type": "stream",
       "stream": "stdout",
       "text": [
        "CPU times: user 1min 56s, sys: 4 s, total: 2min\n",
        "Wall time: 2min\n"
       ]
      },
      {
       "output_type": "stream",
       "stream": "stdout",
       "text": [
        "CPU times: user 1min 55s, sys: 3.49 s, total: 1min 59s\n",
        "Wall time: 1min 59s\n"
       ]
      },
      {
       "output_type": "stream",
       "stream": "stdout",
       "text": [
        "rf\n"
       ]
      },
      {
       "output_type": "stream",
       "stream": "stdout",
       "text": [
        "CPU times: user 1min 49s, sys: 16 ms, total: 1min 49s\n",
        "Wall time: 1min 49s\n"
       ]
      },
      {
       "output_type": "stream",
       "stream": "stdout",
       "text": [
        "CPU times: user 1min 50s, sys: 8 ms, total: 1min 50s\n",
        "Wall time: 1min 50s\n"
       ]
      },
      {
       "output_type": "stream",
       "stream": "stdout",
       "text": [
        "CPU times: user 1min 47s, sys: 4 ms, total: 1min 47s\n",
        "Wall time: 1min 47s\n"
       ]
      },
      {
       "output_type": "stream",
       "stream": "stdout",
       "text": [
        "CPU times: user 1min 52s, sys: 4 ms, total: 1min 52s\n",
        "Wall time: 1min 53s\n"
       ]
      },
      {
       "output_type": "stream",
       "stream": "stdout",
       "text": [
        "1.0\n"
       ]
      },
      {
       "output_type": "stream",
       "stream": "stdout",
       "text": [
        "CPU times: user 1min 58s, sys: 4 ms, total: 1min 58s\n",
        "Wall time: 1min 58s\n"
       ]
      },
      {
       "output_type": "stream",
       "stream": "stdout",
       "text": [
        "CPU times: user 2min 3s, sys: 16 ms, total: 2min 3s\n",
        "Wall time: 2min 3s\n"
       ]
      },
      {
       "output_type": "stream",
       "stream": "stdout",
       "text": [
        "CPU times: user 1min 59s, sys: 8 ms, total: 1min 59s\n",
        "Wall time: 1min 59s\n"
       ]
      },
      {
       "output_type": "stream",
       "stream": "stdout",
       "text": [
        "CPU times: user 2min 4s, sys: 16 ms, total: 2min 4s\n",
        "Wall time: 2min 4s\n"
       ]
      },
      {
       "output_type": "stream",
       "stream": "stdout",
       "text": [
        "2.0\n"
       ]
      },
      {
       "output_type": "stream",
       "stream": "stdout",
       "text": [
        "CPU times: user 1min 59s, sys: 4 ms, total: 1min 59s\n",
        "Wall time: 1min 59s\n"
       ]
      },
      {
       "output_type": "stream",
       "stream": "stdout",
       "text": [
        "CPU times: user 2min, sys: 12 ms, total: 2min\n",
        "Wall time: 2min\n"
       ]
      },
      {
       "output_type": "stream",
       "stream": "stdout",
       "text": [
        "CPU times: user 2min, sys: 4 ms, total: 2min\n",
        "Wall time: 2min\n"
       ]
      },
      {
       "output_type": "stream",
       "stream": "stdout",
       "text": [
        "CPU times: user 2min 6s, sys: 0 ns, total: 2min 6s\n",
        "Wall time: 2min 6s\n"
       ]
      },
      {
       "output_type": "stream",
       "stream": "stdout",
       "text": [
        "4.0\n"
       ]
      },
      {
       "output_type": "stream",
       "stream": "stdout",
       "text": [
        "CPU times: user 2min 4s, sys: 16 ms, total: 2min 4s\n",
        "Wall time: 2min 4s\n"
       ]
      },
      {
       "output_type": "stream",
       "stream": "stdout",
       "text": [
        "CPU times: user 2min 9s, sys: 0 ns, total: 2min 9s\n",
        "Wall time: 2min 9s\n"
       ]
      },
      {
       "output_type": "stream",
       "stream": "stdout",
       "text": [
        "CPU times: user 2min 5s, sys: 20 ms, total: 2min 5s\n",
        "Wall time: 2min 5s\n"
       ]
      },
      {
       "output_type": "stream",
       "stream": "stdout",
       "text": [
        "CPU times: user 2min 9s, sys: 4 ms, total: 2min 9s\n",
        "Wall time: 2min 9s\n"
       ]
      },
      {
       "output_type": "stream",
       "stream": "stdout",
       "text": [
        "rf\n"
       ]
      },
      {
       "output_type": "stream",
       "stream": "stdout",
       "text": [
        "CPU times: user 30min 21s, sys: 116 ms, total: 30min 21s\n",
        "Wall time: 30min 21s\n"
       ]
      },
      {
       "output_type": "stream",
       "stream": "stdout",
       "text": [
        "CPU times: user 30min 46s, sys: 92 ms, total: 30min 46s\n",
        "Wall time: 30min 46s\n"
       ]
      },
      {
       "output_type": "stream",
       "stream": "stdout",
       "text": [
        "CPU times: user 30min 18s, sys: 80 ms, total: 30min 18s\n",
        "Wall time: 30min 18s\n"
       ]
      },
      {
       "output_type": "stream",
       "stream": "stdout",
       "text": [
        "CPU times: user 31min 10s, sys: 64 ms, total: 31min 10s\n",
        "Wall time: 31min 10s\n"
       ]
      },
      {
       "output_type": "stream",
       "stream": "stdout",
       "text": [
        "1.0\n"
       ]
      },
      {
       "output_type": "stream",
       "stream": "stdout",
       "text": [
        "CPU times: user 32min 14s, sys: 100 ms, total: 32min 14s\n",
        "Wall time: 32min 14s\n"
       ]
      },
      {
       "output_type": "stream",
       "stream": "stdout",
       "text": [
        "CPU times: user 32min 56s, sys: 68 ms, total: 32min 56s\n",
        "Wall time: 32min 56s\n"
       ]
      },
      {
       "output_type": "stream",
       "stream": "stdout",
       "text": [
        "CPU times: user 33min 24s, sys: 48 ms, total: 33min 24s\n",
        "Wall time: 33min 24s\n"
       ]
      },
      {
       "output_type": "stream",
       "stream": "stdout",
       "text": [
        "CPU times: user 32min 10s, sys: 80 ms, total: 32min 10s\n",
        "Wall time: 32min 10s\n"
       ]
      },
      {
       "output_type": "stream",
       "stream": "stdout",
       "text": [
        "2.0\n"
       ]
      },
      {
       "output_type": "stream",
       "stream": "stdout",
       "text": [
        "CPU times: user 32min 40s, sys: 248 ms, total: 32min 40s\n",
        "Wall time: 32min 40s\n"
       ]
      },
      {
       "output_type": "stream",
       "stream": "stdout",
       "text": [
        "CPU times: user 32min 49s, sys: 96 ms, total: 32min 49s\n",
        "Wall time: 32min 49s\n"
       ]
      },
      {
       "output_type": "stream",
       "stream": "stdout",
       "text": [
        "CPU times: user 32min 49s, sys: 68 ms, total: 32min 49s\n",
        "Wall time: 32min 49s\n"
       ]
      },
      {
       "output_type": "stream",
       "stream": "stdout",
       "text": [
        "CPU times: user 32min 23s, sys: 96 ms, total: 32min 23s\n",
        "Wall time: 32min 23s\n"
       ]
      },
      {
       "output_type": "stream",
       "stream": "stdout",
       "text": [
        "4.0\n"
       ]
      },
      {
       "output_type": "stream",
       "stream": "stdout",
       "text": [
        "CPU times: user 33min 15s, sys: 856 ms, total: 33min 16s\n",
        "Wall time: 33min 16s\n"
       ]
      },
      {
       "output_type": "stream",
       "stream": "stdout",
       "text": [
        "CPU times: user 32min 25s, sys: 112 ms, total: 32min 25s\n",
        "Wall time: 32min 25s\n"
       ]
      },
      {
       "output_type": "stream",
       "stream": "stdout",
       "text": [
        "CPU times: user 32min 59s, sys: 72 ms, total: 32min 59s\n",
        "Wall time: 32min 59s\n"
       ]
      },
      {
       "output_type": "stream",
       "stream": "stdout",
       "text": [
        "CPU times: user 33min 6s, sys: 100 ms, total: 33min 6s\n",
        "Wall time: 33min 6s\n"
       ]
      }
     ],
     "prompt_number": 10
    },
    {
     "cell_type": "heading",
     "level": 2,
     "metadata": {},
     "source": [
      "Printing Qualities"
     ]
    },
    {
     "cell_type": "code",
     "collapsed": true,
     "input": [
      "cross_val_qualities = joblib.load('./plots/forest_all_qualities.pkl')"
     ],
     "language": "python",
     "metadata": {},
     "outputs": [],
     "prompt_number": 11
    },
    {
     "cell_type": "code",
     "collapsed": true,
     "input": [
      "results = pandas.DataFrame()\n",
      "for (dataset_name, model_name), qualities in cross_val_qualities.items():\n",
      "    results.ix[dataset_name, model_name] = '{:.4f}\u00b1{:.4f}'.format(\n",
      "        numpy.mean(qualities), numpy.std(qualities))"
     ],
     "language": "python",
     "metadata": {},
     "outputs": [],
     "prompt_number": 12
    },
    {
     "cell_type": "code",
     "collapsed": false,
     "input": [
      "results.T"
     ],
     "language": "python",
     "metadata": {},
     "outputs": [
      {
       "html": [
        "<div>\n",
        "<table border=\"1\" class=\"dataframe\">\n",
        "  <thead>\n",
        "    <tr style=\"text-align: right;\">\n",
        "      <th></th>\n",
        "      <th>covtype</th>\n",
        "      <th>real-sim</th>\n",
        "      <th>citeseer</th>\n",
        "    </tr>\n",
        "  </thead>\n",
        "  <tbody>\n",
        "    <tr>\n",
        "      <th>rf</th>\n",
        "      <td>0.9933\u00b10.0001</td>\n",
        "      <td>0.9907\u00b10.0005</td>\n",
        "      <td>0.8831\u00b10.0086</td>\n",
        "    </tr>\n",
        "    <tr>\n",
        "      <th>1.0</th>\n",
        "      <td>0.9937\u00b10.0000</td>\n",
        "      <td>0.9914\u00b10.0005</td>\n",
        "      <td>0.8763\u00b10.0132</td>\n",
        "    </tr>\n",
        "    <tr>\n",
        "      <th>2.0</th>\n",
        "      <td>0.9940\u00b10.0001</td>\n",
        "      <td>0.9918\u00b10.0006</td>\n",
        "      <td>0.8797\u00b10.0160</td>\n",
        "    </tr>\n",
        "    <tr>\n",
        "      <th>4.0</th>\n",
        "      <td>0.9945\u00b10.0001</td>\n",
        "      <td>0.9931\u00b10.0004</td>\n",
        "      <td>0.8764\u00b10.0171</td>\n",
        "    </tr>\n",
        "  </tbody>\n",
        "</table>\n",
        "</div>"
       ],
       "output_type": "pyout",
       "prompt_number": 13,
       "text": [
        "           covtype       real-sim       citeseer\n",
        "rf   0.9933\u00b10.0001  0.9907\u00b10.0005  0.8831\u00b10.0086\n",
        "1.0  0.9937\u00b10.0000  0.9914\u00b10.0005  0.8763\u00b10.0132\n",
        "2.0  0.9940\u00b10.0001  0.9918\u00b10.0006  0.8797\u00b10.0160\n",
        "4.0  0.9945\u00b10.0001  0.9931\u00b10.0004  0.8764\u00b10.0171"
       ]
      }
     ],
     "prompt_number": 13
    },
    {
     "cell_type": "code",
     "collapsed": false,
     "input": [
      "print results.T.to_latex()"
     ],
     "language": "python",
     "metadata": {},
     "outputs": [
      {
       "output_type": "stream",
       "stream": "stdout",
       "text": [
        "\\begin{tabular}{llll}\n",
        "\\toprule\n",
        "{} &        covtype &       real-sim &       citeseer \\\\\n",
        "\\midrule\n",
        "rf  &  0.9933\u00b10.0001 &  0.9907\u00b10.0005 &  0.8831\u00b10.0086 \\\\\n",
        "1.0 &  0.9937\u00b10.0000 &  0.9914\u00b10.0005 &  0.8763\u00b10.0132 \\\\\n",
        "2.0 &  0.9940\u00b10.0001 &  0.9918\u00b10.0006 &  0.8797\u00b10.0160 \\\\\n",
        "4.0 &  0.9945\u00b10.0001 &  0.9931\u00b10.0004 &  0.8764\u00b10.0171 \\\\\n",
        "\\bottomrule\n",
        "\\end{tabular}\n",
        "\n"
       ]
      }
     ],
     "prompt_number": 14
    },
    {
     "cell_type": "heading",
     "level": 2,
     "metadata": {},
     "source": [
      "Plotting some learning qualities"
     ]
    },
    {
     "cell_type": "code",
     "collapsed": true,
     "input": [
      "def compute_learning_curve(clf, X, y, step=10):\n",
      "    stops = []\n",
      "    quals = []\n",
      "    if isinstance(clf, RandomForestClassifier):\n",
      "        p = 0.\n",
      "        for i, tree in enumerate(clf.estimators_):\n",
      "            p += tree.predict_proba(X)[:, 1]\n",
      "            if (i - 1) % step == 0:\n",
      "                stops.append(i)\n",
      "                quals.append(roc_auc_score(y, p))\n",
      "    else: \n",
      "        for i, p in enumerate(clf.staged_decision_function(X)):\n",
      "            if (i - 1) % step == 0:\n",
      "                stops.append(i)\n",
      "                quals.append(roc_auc_score(y, p))\n",
      "    return stops, quals"
     ],
     "language": "python",
     "metadata": {},
     "outputs": [],
     "prompt_number": 15
    },
    {
     "cell_type": "code",
     "collapsed": true,
     "input": [
      "compared_models = OrderedDict()\n",
      "compared_models['InfiniteBoost, c=2.0'] = InfiniteBoosting(n_estimators=1000, capacity=2.)\n",
      "compared_models['InfiniteBoost, c=4.0'] = InfiniteBoosting(n_estimators=1000, capacity=4.)\n",
      "compared_models['RandomForest'] = RandomForestClassifier(n_estimators=1000, random_state=42)"
     ],
     "language": "python",
     "metadata": {},
     "outputs": [],
     "prompt_number": 16
    },
    {
     "cell_type": "code",
     "collapsed": false,
     "input": [
      "test_qualities = OrderedDict()\n",
      "for dataset_name in ['covtype', 'real-sim']:\n",
      "    X, y = datasets[dataset_name]\n",
      "    trainX, testX, trainY, testY = train_test_split(X, y, random_state=42, train_size=0.75)\n",
      "    for model_name, model in compared_models.items():\n",
      "        clf = clone(model)\n",
      "        # avoiding out-of-memory\n",
      "        max_leaf_nodes = None if len(y) < 500000 else 2 ** 15\n",
      "        clf.set_params(max_leaf_nodes=max_leaf_nodes)\n",
      "        %time clf.fit(trainX, trainY)\n",
      "        test_qualities[dataset_name, model_name] = compute_learning_curve(clf, testX, testY, step=10)\n",
      "        del clf        "
     ],
     "language": "python",
     "metadata": {},
     "outputs": [
      {
       "output_type": "stream",
       "stream": "stdout",
       "text": [
        "CPU times: user 20min 3s, sys: 39 s, total: 20min 42s\n",
        "Wall time: 20min 42s\n"
       ]
      },
      {
       "output_type": "stream",
       "stream": "stdout",
       "text": [
        "CPU times: user 20min 51s, sys: 4.61 s, total: 20min 56s\n",
        "Wall time: 20min 56s\n"
       ]
      },
      {
       "output_type": "stream",
       "stream": "stdout",
       "text": [
        "CPU times: user 17min 37s, sys: 1 s, total: 17min 38s\n",
        "Wall time: 17min 38s\n"
       ]
      },
      {
       "output_type": "stream",
       "stream": "stdout",
       "text": [
        "CPU times: user 21min 14s, sys: 672 ms, total: 21min 15s\n",
        "Wall time: 21min 15s\n"
       ]
      },
      {
       "output_type": "stream",
       "stream": "stdout",
       "text": [
        "CPU times: user 21min 51s, sys: 84 ms, total: 21min 51s\n",
        "Wall time: 21min 51s\n"
       ]
      },
      {
       "output_type": "stream",
       "stream": "stdout",
       "text": [
        "CPU times: user 19min 15s, sys: 72 ms, total: 19min 15s\n",
        "Wall time: 19min 15s\n"
       ]
      }
     ],
     "prompt_number": 17
    },
    {
     "cell_type": "code",
     "collapsed": false,
     "input": [
      "joblib.dump(test_qualities, './plots/rf_longrun_qualities.pkl', protocol=2)"
     ],
     "language": "python",
     "metadata": {},
     "outputs": [
      {
       "output_type": "pyout",
       "prompt_number": 18,
       "text": [
        "['./plots/rf_longrun_qualities.pkl']"
       ]
      }
     ],
     "prompt_number": 18
    },
    {
     "cell_type": "code",
     "collapsed": false,
     "input": [
      "from itertools import groupby\n",
      "\n",
      "for dataset_name, grouped_models in groupby(test_qualities.items(), lambda x: x[0][0]):\n",
      "    plt.figure(figsize=[14, 10])\n",
      "    for (dataset_name2, model_name), (stops, qualities) in grouped_models:\n",
      "        plt.plot(stops, qualities, label=model_name)\n",
      "        \n",
      "    plt.grid()\n",
      "    plt.xlabel('number of trees', fontsize=16)\n",
      "    plt.ylabel('ROC AUC', fontsize=20)\n",
      "    plt.rcParams['xtick.labelsize'] = 16 \n",
      "    plt.rcParams['ytick.labelsize'] = 16 \n",
      "    plt.rcParams['pdf.fonttype'] = 42\n",
      "    plt.rcParams['pdf.use14corefonts'] = True\n",
      "\n",
      "    plt.legend(loc='lower right', fontsize=20)\n",
      "    plt.ylim(0.98, 1.00)\n",
      "\n",
      "    plt.savefig('./plots/forest_longrun_{}.pdf'.format(dataset_name), bbox_inches='tight')\n",
      "    plt.show()"
     ],
     "language": "python",
     "metadata": {},
     "outputs": [
      {
       "output_type": "display_data",
       "png": "[encoded data removed]",
       "text": [
        "<matplotlib.figure.Figure at 0x7fd69e198450>"
       ]
      },
      {
       "output_type": "display_data",
       "png": "[encoded data removed]",
       "text": [
        "<matplotlib.figure.Figure at 0x7fd69e198490>"
       ]
      }
     ],
     "prompt_number": 19
    },
    {
     "cell_type": "code",
     "collapsed": true,
     "input": [],
     "language": "python",
     "metadata": {},
     "outputs": [],
     "prompt_number": 20
    }
   ],
   "metadata": {}
  }
 ]
}
